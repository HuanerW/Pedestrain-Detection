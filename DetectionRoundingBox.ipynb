{
 "cells": [
  {
   "cell_type": "code",
   "execution_count": 27,
   "id": "04647bc0",
   "metadata": {},
   "outputs": [],
   "source": [
    "path = \"amazon_reviews_us_Gift_Card_v1_00.tsv\""
   ]
  },
  {
   "cell_type": "code",
   "execution_count": 28,
   "id": "a85fa134",
   "metadata": {},
   "outputs": [],
   "source": [
    "f = open(path, 'rt', encoding=\"utf8\")"
   ]
  },
  {
   "cell_type": "code",
   "execution_count": 29,
   "id": "c66097e8",
   "metadata": {},
   "outputs": [],
   "source": [
    "dataset= [ ]\n",
    "header=f.readline().strip().split('\\t')\n",
    "for line in f:\n",
    "    line=line.split('\\t')\n",
    "    d=dict(zip(header, line))\n",
    "    "
   ]
  },
  {
   "cell_type": "code",
   "execution_count": 30,
   "id": "a00cea25",
   "metadata": {},
   "outputs": [
    {
     "data": {
      "text/plain": [
       "'16262996'"
      ]
     },
     "execution_count": 30,
     "metadata": {},
     "output_type": "execute_result"
    }
   ],
   "source": [
    "d['customer_id']"
   ]
  },
  {
   "cell_type": "code",
   "execution_count": null,
   "id": "c45b1600",
   "metadata": {},
   "outputs": [],
   "source": []
  },
  {
   "cell_type": "code",
   "execution_count": null,
   "id": "96f6c150",
   "metadata": {},
   "outputs": [],
   "source": []
  },
  {
   "cell_type": "code",
   "execution_count": null,
   "id": "191770a7",
   "metadata": {},
   "outputs": [],
   "source": []
  },
  {
   "cell_type": "code",
   "execution_count": null,
   "id": "95349b2e",
   "metadata": {},
   "outputs": [],
   "source": []
  },
  {
   "cell_type": "code",
   "execution_count": null,
   "id": "bf4dadf4",
   "metadata": {},
   "outputs": [],
   "source": []
  },
  {
   "cell_type": "code",
   "execution_count": null,
   "id": "010d860f",
   "metadata": {},
   "outputs": [],
   "source": []
  }
 ],
 "metadata": {
  "kernelspec": {
   "display_name": "Python 3 (ipykernel)",
   "language": "python",
   "name": "python3"
  },
  "language_info": {
   "codemirror_mode": {
    "name": "ipython",
    "version": 3
   },
   "file_extension": ".py",
   "mimetype": "text/x-python",
   "name": "python",
   "nbconvert_exporter": "python",
   "pygments_lexer": "ipython3",
   "version": "3.9.13"
  }
 },
 "nbformat": 4,
 "nbformat_minor": 5
}
